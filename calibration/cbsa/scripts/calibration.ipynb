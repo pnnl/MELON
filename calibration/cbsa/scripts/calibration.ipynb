{
 "cells": [
  {
   "cell_type": "code",
   "execution_count": 1,
   "metadata": {},
   "outputs": [],
   "source": [
    "import numpy as np\n",
    "import matplotlib\n",
    "import os\n",
    "import matplotlib.pyplot as plt\n",
    "from matplotlib.pyplot import figure\n",
    "import pandas as pd\n",
    "import seaborn as sns"
   ]
  },
  {
   "cell_type": "code",
   "execution_count": 2,
   "metadata": {},
   "outputs": [],
   "source": [
    "# ---- General notes ---- #\n",
    "\n",
    "# - EUI data are at the site level\n",
    "# - A site has multiple facility\n",
    "# - The sum of building area of a facility doesn't seem to always total up to the reported site total area (some buildings are missing)\n",
    "\n",
    "# ---- From org work ---- #\n",
    "\n",
    "# Get all CBSA\n",
    "df_site = pd.read_csv('../data/raw/site_details-site.csv')\n",
    "df_facility = pd.read_excel('../data/raw/CBSA Public Summary Tables 6102020.xlsx', sheet_name = 'Buildings')\n",
    "\n",
    "# Get all UrbanBEM results\n",
    "df_results= pd.read_csv('../data/raw/cbsa_results_05.25.2022.csv')\n",
    "months = ['Jan', 'Feb', 'Mar', 'Apr', 'May', 'Jun', 'Jul', 'Aug', 'Sep', 'Oct', 'Nov', 'Dec']\n",
    "for month in months:\n",
    "    df_results[month + '_Electricity_J'] *= 2.77778e-7\n",
    "    df_results[month + '_Gas_J'] *= 9.48043e-9\n",
    "    df_results = df_results.rename({month + '_Electricity_J': month + '_Electricity_kWh',\n",
    "                                    month + '_Gas_J': month + '_Gas_therm'}, axis='columns')\n",
    "df_results = df_results.sort_values(by = 'facility_id', ascending = True).reset_index(drop = True)"
   ]
  },
  {
   "cell_type": "code",
   "execution_count": 3,
   "metadata": {},
   "outputs": [],
   "source": [
    "# Merge CBSA data\n",
    "df_cbsa = pd.merge(left=df_facility, right=df_site, left_on=\"site_reference_number\", right_on=\"site_reference_number\")\n",
    "\n",
    "# Compute total facility area for each site\n",
    "df_cbsa['total_area_calculated'] = df_cbsa.apply(lambda row: df_cbsa.loc[df_cbsa['site_reference_number'] == row['site_reference_number']]['total_building_area'].sum(), axis=1)"
   ]
  },
  {
   "cell_type": "code",
   "execution_count": 4,
   "metadata": {},
   "outputs": [
    {
     "data": {
      "text/plain": [
       "604"
      ]
     },
     "execution_count": 4,
     "metadata": {},
     "output_type": "execute_result"
    }
   ],
   "source": [
    "# Identify all cases where the calculated total facility area IS DIFFERENT than the site total area\n",
    "len(df_cbsa.loc[df_cbsa['total_area'] != df_cbsa['total_area_calculated'], 'site_reference_number'].unique())"
   ]
  },
  {
   "cell_type": "code",
   "execution_count": 5,
   "metadata": {},
   "outputs": [
    {
     "data": {
      "text/plain": [
       "145"
      ]
     },
     "execution_count": 5,
     "metadata": {},
     "output_type": "execute_result"
    }
   ],
   "source": [
    "# Identify all cases where the calculated total facility area IS THE SAME as the site total area\n",
    "len(df_cbsa.loc[df_cbsa['total_area'] == df_cbsa['total_area_calculated'], 'site_reference_number'].unique())"
   ]
  },
  {
   "cell_type": "code",
   "execution_count": 6,
   "metadata": {},
   "outputs": [
    {
     "name": "stdout",
     "output_type": "stream",
     "text": [
      "0.5321888412017167\n"
     ]
    }
   ],
   "source": [
    "# Identify cases that don't have monthly electricity data\n",
    "print(len(df_cbsa.loc[df_cbsa['jan_weather_normalized_electric_eui_kwh_per_sqft'].isna()]) / len(df_cbsa))\n",
    "\n",
    "# Keep only cases with monthly electricity data\n",
    "df_cbsa_elec = df_cbsa.loc[~df_cbsa['jan_weather_normalized_electric_eui_kwh_per_sqft'].isna()]"
   ]
  },
  {
   "cell_type": "code",
   "execution_count": 7,
   "metadata": {},
   "outputs": [
    {
     "name": "stdout",
     "output_type": "stream",
     "text": [
      "0.6040772532188842\n"
     ]
    }
   ],
   "source": [
    "# Identify cases that don't have monthly electricity data\n",
    "print(len(df_cbsa.loc[df_cbsa['jan_weather_normalized_gas_eui_therms_per_sqft'].isna()]) / len(df_cbsa))\n",
    "\n",
    "# Keep only cases with monthly electricity data\n",
    "df_cbsa_gas = df_cbsa.loc[~df_cbsa['jan_weather_normalized_gas_eui_therms_per_sqft'].isna()]"
   ]
  },
  {
   "cell_type": "code",
   "execution_count": 8,
   "metadata": {},
   "outputs": [],
   "source": [
    "# Adjust weather normalized EUI by the total_area_calculated since it's the one that's modeled (approximately) in URBAN-BEM\n",
    "# Approach:\n",
    "# - \"actual\" total_area = annual weather normalized energy use / sum( weather normalized EUI )\n",
    "# - weather normalized EUI *= \"actual\" total_area / total_area_calculated\n",
    "\n",
    "def adjust_weather_normalized_eui(row, col_names, key_eui, key_annual):\n",
    "    eui_sum = sum([row[c_n] for c_n in col_names if f\"weather_normalized_{key_eui}_per_sqft\" in c_n and not \"annual\" in c_n])\n",
    "    actual_total_area = row[f\"annual_weather_normalized_{key_annual}\"] / eui_sum\n",
    "    for c_n in col_names:\n",
    "        if f\"weather_normalized_{key_eui}_per_sqft\" in c_n:\n",
    "            row[c_n] *= actual_total_area / row['total_area_calculated']\n",
    "    return row\n",
    "  \n",
    "col_names = df_cbsa.columns\n",
    "df_cbsa_elec = df_cbsa_elec.apply(lambda row: adjust_weather_normalized_eui(row, col_names, 'electric_eui_kwh', 'electric_kwh'), axis = 1)\n",
    "df_cbsa_gas = df_cbsa_gas.apply(lambda row: adjust_weather_normalized_eui(row, col_names, 'gas_eui_therms', 'gas_therms'), axis = 1)"
   ]
  },
  {
   "cell_type": "code",
   "execution_count": 9,
   "metadata": {},
   "outputs": [],
   "source": [
    "# Select a subset of columns\n",
    "selected_columns = ['site_reference_number', 'facility_id'] + [c_n for c_n in df_cbsa.columns if \"weather_normalized\" in c_n and \"_per_sqft\" in c_n and not \"annual\" in c_n]\n",
    "df_cbsa_elec_sub = df_cbsa_elec[selected_columns]\n",
    "df_cbsa_gas_sub = df_cbsa_gas[selected_columns]"
   ]
  },
  {
   "cell_type": "code",
   "execution_count": 10,
   "metadata": {},
   "outputs": [],
   "source": [
    "# Format columns\n",
    "df_cbsa_elec_sub.columns = [c_n.replace(\"_weather_normalized_electric\", \"_elec\").replace(\"_kwh_per_sqft\", \"\") for c_n in df_cbsa_elec_sub.columns]\n",
    "df_cbsa_gas_sub.columns = [c_n.replace(\"_weather_normalized_gas\", \"_gas\").replace(\"_therms_per_sqft\", \"\") for c_n in df_cbsa_elec_sub.columns]"
   ]
  },
  {
   "cell_type": "code",
   "execution_count": 11,
   "metadata": {},
   "outputs": [],
   "source": [
    "# Calculate and format URBAN-BEM results\n",
    "def calc_eui(row):\n",
    "    for c_n in df_urban_bem.columns:\n",
    "        if \"kWh\" in c_n or \"therm\" in c_n:\n",
    "            row[c_n] = row[c_n] / row['total_building_area']\n",
    "    return row\n",
    "\n",
    "df_urban_bem = df_cbsa[['facility_id', 'total_building_area']].merge(df_results, on=\"facility_id\")\n",
    "df_urban_bem = df_urban_bem.apply(lambda row: calc_eui(row), axis = 1)\n",
    "df_urban_bem.columns = [c_n.lower().replace(\"electricity_kwh\", \"elec_eui\").replace(\"gas_therm\", \"gas_eui\") for c_n in df_urban_bem.columns]"
   ]
  },
  {
   "cell_type": "code",
   "execution_count": 20,
   "metadata": {},
   "outputs": [
    {
     "data": {
      "text/plain": [
       "916"
      ]
     },
     "execution_count": 20,
     "metadata": {},
     "output_type": "execute_result"
    }
   ],
   "source": [
    "len(df_urban_bem)"
   ]
  },
  {
   "cell_type": "code",
   "execution_count": 48,
   "metadata": {},
   "outputs": [],
   "source": [
    "# Merge dataframes for processing\n",
    "elec_columns = [\"facility_id\"] + [c_n for c_n in df_urban_bem.columns if \"elec\" in c_n]\n",
    "gas_columns = [\"facility_id\"] + [c_n for c_n in df_urban_bem.columns if \"gas\" in c_n]\n",
    "\n",
    "df_elec = pd.merge(df_cbsa_elec_sub[elec_columns], df_urban_bem[elec_columns], on=\"facility_id\")\n",
    "df_elec.columns = [c_n.replace(\"_x\",\"_cbsa\").replace(\"_y\",\"_urban_bem\") for c_n in df_elec.columns]\n",
    "df_gas = pd.merge(df_cbsa_gas_sub[gas_columns], df_urban_bem[gas_columns], on=\"facility_id\")\n",
    "df_gas.columns = [c_n.replace(\"_x\",\"_cbsa\").replace(\"_y\",\"_urban_bem\") for c_n in df_gas.columns]"
   ]
  },
  {
   "cell_type": "code",
   "execution_count": 49,
   "metadata": {},
   "outputs": [
    {
     "data": {
      "text/plain": [
       "Text(0.5,0,'elec_eui_cbsa')"
      ]
     },
     "execution_count": 49,
     "metadata": {},
     "output_type": "execute_result"
    },
    {
     "data": {
      "image/png": "[encoded data removed]",
      "text/plain": [
       "<Figure size 432x288 with 1 Axes>"
      ]
     },
     "metadata": {
      "needs_background": "light"
     },
     "output_type": "display_data"
    }
   ],
   "source": [
    "# Plot results\n",
    "for m in months:\n",
    "    c = sns.scatterplot(data=df_elec, x=f\"{m.lower()}_elec_eui_cbsa\", y=f\"{m.lower()}_elec_eui_urban_bem\")\n",
    "\n",
    "c.set_ylim(0, 18)\n",
    "c.set_xlim(0, 18)\n",
    "c.set_ylabel(\"elec_eui_urban_bem\")\n",
    "c.set_xlabel(\"elec_eui_cbsa\")"
   ]
  },
  {
   "cell_type": "code",
   "execution_count": 51,
   "metadata": {},
   "outputs": [
    {
     "data": {
      "text/plain": [
       "Text(0.5,0,'gas_eui_cbsa')"
      ]
     },
     "execution_count": 51,
     "metadata": {},
     "output_type": "execute_result"
    },
    {
     "data": {
      "image/png": "[encoded data removed]",
      "text/plain": [
       "<Figure size 432x288 with 1 Axes>"
      ]
     },
     "metadata": {
      "needs_background": "light"
     },
     "output_type": "display_data"
    }
   ],
   "source": [
    "# Plot results\n",
    "for m in months:\n",
    "    c = sns.scatterplot(data=df_gas, x=f\"{m.lower()}_gas_eui_cbsa\", y=f\"{m.lower()}_gas_eui_urban_bem\")\n",
    "\n",
    "c.set_ylim(0, 2)\n",
    "c.set_xlim(0, 2)\n",
    "c.set_ylabel(\"gas_eui_urban_bem\")\n",
    "c.set_xlabel(\"gas_eui_cbsa\")"
   ]
  },
  {
   "cell_type": "code",
   "execution_count": null,
   "metadata": {},
   "outputs": [],
   "source": []
  }
 ],
 "metadata": {
  "kernelspec": {
   "display_name": "Python 3.7.0 ('base')",
   "language": "python",
   "name": "python3"
  },
  "language_info": {
   "codemirror_mode": {
    "name": "ipython",
    "version": 3
   },
   "file_extension": ".py",
   "mimetype": "text/x-python",
   "name": "python",
   "nbconvert_exporter": "python",
   "pygments_lexer": "ipython3",
   "version": "3.7.0"
  },
  "orig_nbformat": 4,
  "vscode": {
   "interpreter": {
    "hash": "ad2bdc8ecc057115af97d19610ffacc2b4e99fae6737bb82f5d7fb13d2f2c186"
   }
  }
 },
 "nbformat": 4,
 "nbformat_minor": 2
}
